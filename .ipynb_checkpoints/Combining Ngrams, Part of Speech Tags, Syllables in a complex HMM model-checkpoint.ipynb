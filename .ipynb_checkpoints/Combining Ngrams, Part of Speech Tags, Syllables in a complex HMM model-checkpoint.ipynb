{
 "cells": [
  {
   "cell_type": "markdown",
   "metadata": {},
   "source": [
    "**These libraries were created by me ease with handling the data, and generating the n-gram model**"
   ]
  },
  {
   "cell_type": "code",
   "execution_count": 1,
   "metadata": {},
   "outputs": [
    {
     "data": {
      "text/plain": [
       "<module 'data' from 'G:\\\\OneDrive - University of Edinburgh\\\\Poem Generation\\\\Poem-Generation-Basic\\\\data.py'>"
      ]
     },
     "execution_count": 1,
     "metadata": {},
     "output_type": "execute_result"
    }
   ],
   "source": [
    "import importlib\n",
    "import data\n",
    "import model\n",
    "import pickle\n",
    "importlib.reload(model)\n",
    "importlib.reload(data)"
   ]
  },
  {
   "cell_type": "markdown",
   "metadata": {},
   "source": [
    "### Importing the data\n",
    "The data consists of:\n",
    "<li>poems\n",
    "<li>poems of syllables\n",
    "<li>poems of Part of Speech(POS) tags \n",
    "<li>dictionary to look up a words syllables\n",
    "<li>dictionary to look up a words possible part of speech"
   ]
  },
  {
   "cell_type": "code",
   "execution_count": 2,
   "metadata": {},
   "outputs": [],
   "source": [
    "#poems = data.Poems(\"G:\\OneDrive - University of Edinburgh\\Poem Generation\\WebScrapping-PoetryFoundation\\PoetryFoundationData.csv\")\n",
    "#pickle_out = open(\"poems.pickle\",\"wb\")\n",
    "#pickle.dump(poems, pickle_out)\n",
    "#pickle_out.close()"
   ]
  },
  {
   "cell_type": "code",
   "execution_count": 48,
   "metadata": {},
   "outputs": [],
   "source": [
    "pickle_in = open(\"poems.pickle\",\"rb\")\n",
    "poems = pickle.load(pickle_in)"
   ]
  },
  {
   "cell_type": "markdown",
   "metadata": {},
   "source": [
    "## Comparisons\n",
    "In this notebook, we want to compare, the differences of using a plain N-gram model, an N-gram model with either syllables or pos tags, or a model that utilizes both!<br>\n",
    "We'll use a 4-gram model in all the cases<br>\n",
    "This the input for any of the models!"
   ]
  },
  {
   "cell_type": "code",
   "execution_count": 4,
   "metadata": {},
   "outputs": [],
   "source": [
    "word1, word2, word3 = \"I\"  ,\"LOVE\" ,\",\"\n",
    "syll1, syll2, syll3 =  1   ,   1   , 1\n",
    "POSt1, POSt2, POSt3 = \"PRP\", \"VBP\" ,\",\""
   ]
  },
  {
   "cell_type": "markdown",
   "metadata": {},
   "source": [
    "Let's start with plain **N-gram model!**"
   ]
  },
  {
   "cell_type": "code",
   "execution_count": 5,
   "metadata": {},
   "outputs": [],
   "source": [
    "FourGram = model.nGrams(poems.poems, 4, alpha = 0)"
   ]
  },
  {
   "cell_type": "code",
   "execution_count": 6,
   "metadata": {
    "scrolled": true
   },
   "outputs": [
    {
     "name": "stdout",
     "output_type": "stream",
     "text": [
      "********************************************************************************\n",
      "I LOVE , \n",
      "AND THE WORLD IS A ROAD UNDER THE WALL TO THE CHURCH , \n",
      "THE WAY A MAN ARGUES WITH HIS OWN HANDS . \n",
      "\n",
      "\n",
      "\n",
      "\n",
      "\n",
      "\n",
      "\n",
      "\n",
      "\n",
      "\n",
      "\n",
      "\n",
      "\n",
      "NEWLINE\n",
      "********************************************************************************\n"
     ]
    }
   ],
   "source": [
    "print(\"*\"*80)\n",
    "generate_str = word1+\" \"+word2 + \" \" +word3\n",
    "for i in range(40):\n",
    "    next_word  = FourGram.next_word([word1, word2, word3])\n",
    "    word1      = word2\n",
    "    word2      = word3\n",
    "    word3      = next_word\n",
    "    generate_str = generate_str+\" \"+ next_word\n",
    "print(generate_str.replace(\"NEWLINE \",\"\\n\"))\n",
    "print(\"*\"*80)"
   ]
  },
  {
   "cell_type": "markdown",
   "metadata": {},
   "source": [
    "That was intersting, but seems to lack in a lot of aspects. Specially, the repetion of NEWLINES in the end was disapointing. <br><br>\n",
    "Let's move on to **N-gram model with syllable counts!**"
   ]
  },
  {
   "cell_type": "code",
   "execution_count": 7,
   "metadata": {},
   "outputs": [],
   "source": [
    "word1, word2, word3 = \"I\"  ,\"LOVE\" ,\",\"\n",
    "syll1, syll2, syll3 =  1   ,   1   , 1\n",
    "POSt1, POSt2, POSt3 = \"PRP\", \"VBP\" ,\",\""
   ]
  },
  {
   "cell_type": "code",
   "execution_count": 8,
   "metadata": {},
   "outputs": [],
   "source": [
    "FourGram         = model.nGrams(poems.poems, 4, alpha = 0.15)\n",
    "FourGramSyllable = model.nGrams(poems.poems_of_syllables , 4, alpha = 0.35)"
   ]
  },
  {
   "cell_type": "code",
   "execution_count": 9,
   "metadata": {},
   "outputs": [
    {
     "name": "stdout",
     "output_type": "stream",
     "text": [
      "********************************************************************************\n",
      "I LOVE , I SAID , I M NOT SURE THE WORDS OCEAN AND SEA \n",
      "MEAN THE SAME THING AS GOOD FORTUNE , \n",
      "BLEST WITH A TASTE FOR FOOD THE GROCERS T STOCK \n",
      "HOG JOWL AND BLACKEYES , TURNIP GREENS , \n",
      "AND THE WORLD IS A ROAD IN SIGHT , AND THE LONG NIGHT THROUGH THE RULES AND LIVING \n",
      "WHOLE THEY ONCE COMPOSED SEEMS BROKEN NOW , ITS BRICK HEAVY WITH DESIRE FOR GOOD . \n",
      "THE SUN IS A FLAME WHITE DISC \n",
      "IN SILKEN MISTS \n",
      "ABOVE SHINING TREES , \n",
      "THE WAY A MAN WILL JUDGE LINEN BY CANDLELIGHT . BURR OAKS YIELD FEWER FRUIT , BUT THE TRUTH IS I DON T KNOW WHAT\n",
      "********************************************************************************\n"
     ]
    }
   ],
   "source": [
    "print(\"*\"*80)\n",
    "generate_str = word1+\" \"+word2 + \" \" +word3\n",
    "for i in range(120):\n",
    "    next_word  = model.nextSyllableWord([word1,word2,word3], FourGram, FourGramSyllable, poems.word_syllablecount_dict, 4)\n",
    "    word1      = word2\n",
    "    word2      = word3\n",
    "    word3      = next_word\n",
    "    generate_str = generate_str+\" \"+ next_word\n",
    "print(generate_str.replace(\"NEWLINE \",\"\\n\"))\n",
    "print(\"*\"*80)"
   ]
  },
  {
   "cell_type": "markdown",
   "metadata": {},
   "source": [
    "This seems much better. I am not sure why its better, someone help me why haha. <br> <br>\n",
    "Let's move onto the **N-gram model with Part of Speech!**"
   ]
  },
  {
   "cell_type": "code",
   "execution_count": 42,
   "metadata": {},
   "outputs": [],
   "source": [
    "word1, word2, word3 = \"I\"  ,\"LOVE\" ,\",\"\n",
    "syll1, syll2, syll3 =  1   ,   1   , 1\n",
    "POSt1, POSt2, POSt3 = \"PRP\", \"VB\" ,\",\""
   ]
  },
  {
   "cell_type": "code",
   "execution_count": 11,
   "metadata": {},
   "outputs": [],
   "source": [
    "FourGram         = model.nGrams(poems.poems, 4, alpha = 0.5)\n",
    "FourGramPOS      = model.nGrams(poems.poems_of_POStags, 4, 0.50)"
   ]
  },
  {
   "cell_type": "code",
   "execution_count": 43,
   "metadata": {},
   "outputs": [
    {
     "name": "stdout",
     "output_type": "stream",
     "text": [
      "********************************************************************************\n",
      "I LOVE , \n",
      "AND THE WORLD IS A ROAD UNDER THE WALL TO THE CHURCH , \n",
      "THE WAY OF THE BRAIN , \n",
      "A MAN IN A MOMENT , \n",
      "AND THE WORLD IS A ROAD UNDER THE WALL TO THE CHURCH , \n",
      "THE WAY OF THE BRAIN , \n",
      "A MAN IN A MOMENT , \n",
      "AND THE WORLD IS A ROAD UNDER THE WALL TO THE CHURCH , \n",
      "THE WAY OF THE BRAIN , \n",
      "A MAN IN A MOMENT , \n",
      "AND THE WORLD IS A ROAD UNDER THE WALL TO THE CHURCH , \n",
      "THE\n",
      "********************************************************************************\n"
     ]
    }
   ],
   "source": [
    "print(\"*\"*80)\n",
    "generate_str = word1+\" \"+word2 + \" \" +word3\n",
    "for i in range(100):\n",
    "    next_word,next_tag = model.nextPOSWord([word1,word2,word3],\n",
    "                                            [POSt1,POSt2,POSt3],\n",
    "                                            FourGram, FourGramPOS, poems.word_POStag_dict, 0.1)\n",
    "    word1 = word2\n",
    "    word2 = word3\n",
    "    word3 = next_word\n",
    "    POSt1 = POSt2\n",
    "    POSt2 = POSt3\n",
    "    POSt3 = next_tag\n",
    "    generate_str = generate_str+\" \"+ next_word\n",
    "print(generate_str.replace(\"NEWLINE \",\"\\n\"))\n",
    "print(\"*\"*80)"
   ]
  },
  {
   "cell_type": "markdown",
   "metadata": {},
   "source": [
    "Well, this was sort of disapointing, as much as the entire thing got a proper structure, we have gone back to the problem of it repeating a certain phrase. <br> <br>\n",
    "Let's see, how the final model works, **N-gram model with Part of Speech and Syllable Count!**"
   ]
  },
  {
   "cell_type": "code",
   "execution_count": 98,
   "metadata": {},
   "outputs": [],
   "source": [
    "FourGram         = model.nGrams(poems.poems, 4, alpha = 0.2)\n",
    "FourGramPOS      = model.nGrams(poems.poems_of_POStags, 4, alpha = 0.5)\n",
    "FourGramSyllable = model.nGrams(poems.poems_of_syllables , 4, alpha = 0.5)"
   ]
  },
  {
   "cell_type": "code",
   "execution_count": 104,
   "metadata": {},
   "outputs": [],
   "source": [
    "pickle_in = open(\"poems.pickle\",\"rb\")\n",
    "poems = pickle.load(pickle_in)"
   ]
  },
  {
   "cell_type": "code",
   "execution_count": 105,
   "metadata": {},
   "outputs": [],
   "source": [
    "word1, word2, word3 = \"I\"  ,\"LOVE\" ,\",\"\n",
    "syll1, syll2, syll3 =  1   ,   1   , 1\n",
    "POSt1, POSt2, POSt3 = \"PRP\", \"VB\" ,\",\""
   ]
  },
  {
   "cell_type": "code",
   "execution_count": 106,
   "metadata": {},
   "outputs": [
    {
     "name": "stdout",
     "output_type": "stream",
     "text": [
      "I LOVE , \n",
      "AND THE WORLD IS A ROAD IN WHITE MOONLIGHT TAKING ME HOME . \n",
      "THE MAN IN THE HOUSE/ \n",
      "HE LOOKED FROM THE ROCKS OF THE WORLD IN A DAY OF THE YEAR IN THE FRONT YARD OF ROSES \n",
      "AND LUPINSLUPINS A TALL , \n",
      "WITH A MAN IN A TUX AS YOUR HUSBAND LOOK \n",
      "I NEVER SAID A THING ; JUST CONTINUED TALKING AMONGST THEMSELVES , QUIETLY REMINISCING . I PAID THE BARMAID AND TURNED MY HEAD AND THE YEAR WAS DONE AND \n",
      "FROM IT GREW THIRTEEN BEAMS / \n",
      "FROM THESE PARTS .\n"
     ]
    }
   ],
   "source": [
    "generate_str = word1+\" \"+word2 + \" \" +word3\n",
    "for i in range(100):\n",
    "    next_word,next_tag = model.nextPOSWordSyllable([word1,word2,word3],\n",
    "                                                   [POSt1,POSt2,POSt3],\n",
    "                                                   FourGram, FourGramPOS, FourGramSyllable,\n",
    "                                                   poems.word_POStag_dict, poems.word_syllablecount_dict,\n",
    "                                                   0.75)\n",
    "    word1 = word2\n",
    "    word2 = word3\n",
    "    word3 = next_word\n",
    "    POSt1 = POSt2\n",
    "    POSt2 = POSt3\n",
    "    POSt3 = next_tag\n",
    "    generate_str = generate_str+\" \"+ next_word\n",
    "print(generate_str.replace(\"NEWLINE \",\"\\n\"))"
   ]
  },
  {
   "cell_type": "code",
   "execution_count": null,
   "metadata": {},
   "outputs": [],
   "source": []
  },
  {
   "cell_type": "code",
   "execution_count": null,
   "metadata": {},
   "outputs": [],
   "source": []
  }
 ],
 "metadata": {
  "kernelspec": {
   "display_name": "Python 3",
   "language": "python",
   "name": "python3"
  },
  "language_info": {
   "codemirror_mode": {
    "name": "ipython",
    "version": 3
   },
   "file_extension": ".py",
   "mimetype": "text/x-python",
   "name": "python",
   "nbconvert_exporter": "python",
   "pygments_lexer": "ipython3",
   "version": "3.7.1"
  }
 },
 "nbformat": 4,
 "nbformat_minor": 2
}
