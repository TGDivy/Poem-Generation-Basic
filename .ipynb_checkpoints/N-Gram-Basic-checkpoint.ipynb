{
 "cells": [
  {
   "cell_type": "code",
   "execution_count": 12,
   "metadata": {},
   "outputs": [],
   "source": [
    "import pandas as pd\n",
    "import nltk"
   ]
  },
  {
   "cell_type": "markdown",
   "metadata": {},
   "source": [
    "**Note: All of this code is imrpoved and modularized in both model.py and data.py .** <br>\n",
    "This notebook is denote how I started out with the project."
   ]
  },
  {
   "cell_type": "markdown",
   "metadata": {},
   "source": [
    "## Importing the dataset"
   ]
  },
  {
   "cell_type": "code",
   "execution_count": 13,
   "metadata": {},
   "outputs": [
    {
     "data": {
      "text/html": [
       "<div>\n",
       "<style scoped>\n",
       "    .dataframe tbody tr th:only-of-type {\n",
       "        vertical-align: middle;\n",
       "    }\n",
       "\n",
       "    .dataframe tbody tr th {\n",
       "        vertical-align: top;\n",
       "    }\n",
       "\n",
       "    .dataframe thead th {\n",
       "        text-align: right;\n",
       "    }\n",
       "</style>\n",
       "<table border=\"1\" class=\"dataframe\">\n",
       "  <thead>\n",
       "    <tr style=\"text-align: right;\">\n",
       "      <th></th>\n",
       "      <th>Title</th>\n",
       "      <th>Poem</th>\n",
       "      <th>Poet</th>\n",
       "      <th>Tags</th>\n",
       "    </tr>\n",
       "  </thead>\n",
       "  <tbody>\n",
       "    <tr>\n",
       "      <th>0</th>\n",
       "      <td>\\r\\r\\n                    Objects Used to Prop...</td>\n",
       "      <td>\\r\\r\\nDog bone, stapler,\\r\\r\\ncribbage board, ...</td>\n",
       "      <td>Michelle Menting</td>\n",
       "      <td>NaN</td>\n",
       "    </tr>\n",
       "    <tr>\n",
       "      <th>1</th>\n",
       "      <td>\\r\\r\\n                    The New Church\\r\\r\\n...</td>\n",
       "      <td>\\r\\r\\nThe old cupola glinted above the clouds,...</td>\n",
       "      <td>Lucia Cherciu</td>\n",
       "      <td>NaN</td>\n",
       "    </tr>\n",
       "    <tr>\n",
       "      <th>2</th>\n",
       "      <td>\\r\\r\\n                    Look for Me\\r\\r\\n   ...</td>\n",
       "      <td>\\r\\r\\nLook for me under the hood\\r\\r\\nof that ...</td>\n",
       "      <td>Ted Kooser</td>\n",
       "      <td>NaN</td>\n",
       "    </tr>\n",
       "    <tr>\n",
       "      <th>3</th>\n",
       "      <td>\\r\\r\\n                    Wild Life\\r\\r\\n     ...</td>\n",
       "      <td>\\r\\r\\nBehind the silo, the Mother Rabbit\\r\\r\\n...</td>\n",
       "      <td>Grace Cavalieri</td>\n",
       "      <td>NaN</td>\n",
       "    </tr>\n",
       "    <tr>\n",
       "      <th>4</th>\n",
       "      <td>\\r\\r\\n                    Umbrella\\r\\r\\n      ...</td>\n",
       "      <td>\\r\\r\\nWhen I push your button\\r\\r\\nyou fly off...</td>\n",
       "      <td>Connie Wanek</td>\n",
       "      <td>NaN</td>\n",
       "    </tr>\n",
       "  </tbody>\n",
       "</table>\n",
       "</div>"
      ],
      "text/plain": [
       "                                               Title  \\\n",
       "0  \\r\\r\\n                    Objects Used to Prop...   \n",
       "1  \\r\\r\\n                    The New Church\\r\\r\\n...   \n",
       "2  \\r\\r\\n                    Look for Me\\r\\r\\n   ...   \n",
       "3  \\r\\r\\n                    Wild Life\\r\\r\\n     ...   \n",
       "4  \\r\\r\\n                    Umbrella\\r\\r\\n      ...   \n",
       "\n",
       "                                                Poem              Poet Tags  \n",
       "0  \\r\\r\\nDog bone, stapler,\\r\\r\\ncribbage board, ...  Michelle Menting  NaN  \n",
       "1  \\r\\r\\nThe old cupola glinted above the clouds,...     Lucia Cherciu  NaN  \n",
       "2  \\r\\r\\nLook for me under the hood\\r\\r\\nof that ...        Ted Kooser  NaN  \n",
       "3  \\r\\r\\nBehind the silo, the Mother Rabbit\\r\\r\\n...   Grace Cavalieri  NaN  \n",
       "4  \\r\\r\\nWhen I push your button\\r\\r\\nyou fly off...      Connie Wanek  NaN  "
      ]
     },
     "execution_count": 13,
     "metadata": {},
     "output_type": "execute_result"
    }
   ],
   "source": [
    "data = pd.read_csv(\".\\\\Poem Data\\\\PoetryFoundationData.csv\")\n",
    "data = data.drop(columns=[\"Unnamed: 0\"])\n",
    "data.head(5)"
   ]
  },
  {
   "cell_type": "markdown",
   "metadata": {},
   "source": [
    "### Cleaning the Data Set"
   ]
  },
  {
   "cell_type": "markdown",
   "metadata": {},
   "source": [
    "Removing the unnecssary \\r\\r\\n to just \\n"
   ]
  },
  {
   "cell_type": "code",
   "execution_count": 14,
   "metadata": {},
   "outputs": [],
   "source": [
    "def clean_text(string):\n",
    "    string  = str(string).lower()\n",
    "    return str(string).replace(\"\\r\\r\\n\",\"NEWLINE\\n \")\n",
    "\n",
    "data = data.applymap(clean_text)"
   ]
  },
  {
   "cell_type": "markdown",
   "metadata": {},
   "source": [
    "Splitting the tags into lists as some poems have multiple tags!"
   ]
  },
  {
   "cell_type": "code",
   "execution_count": 15,
   "metadata": {},
   "outputs": [
    {
     "data": {
      "text/html": [
       "<div>\n",
       "<style scoped>\n",
       "    .dataframe tbody tr th:only-of-type {\n",
       "        vertical-align: middle;\n",
       "    }\n",
       "\n",
       "    .dataframe tbody tr th {\n",
       "        vertical-align: top;\n",
       "    }\n",
       "\n",
       "    .dataframe thead th {\n",
       "        text-align: right;\n",
       "    }\n",
       "</style>\n",
       "<table border=\"1\" class=\"dataframe\">\n",
       "  <thead>\n",
       "    <tr style=\"text-align: right;\">\n",
       "      <th></th>\n",
       "      <th>Title</th>\n",
       "      <th>Poem</th>\n",
       "      <th>Poet</th>\n",
       "      <th>Tags</th>\n",
       "    </tr>\n",
       "  </thead>\n",
       "  <tbody>\n",
       "    <tr>\n",
       "      <th>5</th>\n",
       "      <td>NEWLINE\\n                     sundayNEWLINE\\n ...</td>\n",
       "      <td>NEWLINE\\n you are the start of the weekNEWLINE...</td>\n",
       "      <td>january gill o'neil</td>\n",
       "      <td>[nan]</td>\n",
       "    </tr>\n",
       "    <tr>\n",
       "      <th>6</th>\n",
       "      <td>NEWLINE\\n                     invisible fishNE...</td>\n",
       "      <td>NEWLINE\\n invisible fish swim this ghost ocean...</td>\n",
       "      <td>joy harjo</td>\n",
       "      <td>[living, time &amp; brevity, relationships, family...</td>\n",
       "    </tr>\n",
       "    <tr>\n",
       "      <th>7</th>\n",
       "      <td>NEWLINE\\n                     don’t bother the...</td>\n",
       "      <td>NEWLINE\\n don’t bother the earth spirit who li...</td>\n",
       "      <td>joy harjo</td>\n",
       "      <td>[religion, the spiritual, mythology &amp; folklore...</td>\n",
       "    </tr>\n",
       "    <tr>\n",
       "      <th>8</th>\n",
       "      <td>NEWLINE\\n                     the one thing th...</td>\n",
       "      <td>NEWLINE\\n is anything central?NEWLINE\\n orchar...</td>\n",
       "      <td>john ashbery</td>\n",
       "      <td>[nan]</td>\n",
       "    </tr>\n",
       "    <tr>\n",
       "      <th>9</th>\n",
       "      <td>NEWLINE\\n                     [\"hour in which ...</td>\n",
       "      <td>NEWLINE\\n hour in which i consider hydrangea, ...</td>\n",
       "      <td>simone white</td>\n",
       "      <td>[living, parenthood, the body, the mind, natur...</td>\n",
       "    </tr>\n",
       "  </tbody>\n",
       "</table>\n",
       "</div>"
      ],
      "text/plain": [
       "                                               Title  \\\n",
       "5  NEWLINE\\n                     sundayNEWLINE\\n ...   \n",
       "6  NEWLINE\\n                     invisible fishNE...   \n",
       "7  NEWLINE\\n                     don’t bother the...   \n",
       "8  NEWLINE\\n                     the one thing th...   \n",
       "9  NEWLINE\\n                     [\"hour in which ...   \n",
       "\n",
       "                                                Poem                 Poet  \\\n",
       "5  NEWLINE\\n you are the start of the weekNEWLINE...  january gill o'neil   \n",
       "6  NEWLINE\\n invisible fish swim this ghost ocean...            joy harjo   \n",
       "7  NEWLINE\\n don’t bother the earth spirit who li...            joy harjo   \n",
       "8  NEWLINE\\n is anything central?NEWLINE\\n orchar...         john ashbery   \n",
       "9  NEWLINE\\n hour in which i consider hydrangea, ...         simone white   \n",
       "\n",
       "                                                Tags  \n",
       "5                                              [nan]  \n",
       "6  [living, time & brevity, relationships, family...  \n",
       "7  [religion, the spiritual, mythology & folklore...  \n",
       "8                                              [nan]  \n",
       "9  [living, parenthood, the body, the mind, natur...  "
      ]
     },
     "execution_count": 15,
     "metadata": {},
     "output_type": "execute_result"
    }
   ],
   "source": [
    "def split_tags(string):\n",
    "    return (str(string)).split(\",\")\n",
    "\n",
    "data.Tags = data.Tags.map(split_tags)\n",
    "data[5:10]"
   ]
  },
  {
   "cell_type": "markdown",
   "metadata": {},
   "source": [
    "## N-Gram model"
   ]
  },
  {
   "cell_type": "markdown",
   "metadata": {},
   "source": [
    "#### Tokenizing the poems"
   ]
  },
  {
   "cell_type": "code",
   "execution_count": 16,
   "metadata": {},
   "outputs": [],
   "source": [
    "Poems = data.Poem.map(lambda x: nltk.tokenize.word_tokenize(x,preserve_line =True))\n",
    "#For Faster Testing\n",
    "Poem_small = Poems[:2000]"
   ]
  },
  {
   "cell_type": "markdown",
   "metadata": {},
   "source": [
    "#### Getting word Bi-Grams"
   ]
  },
  {
   "cell_type": "markdown",
   "metadata": {},
   "source": [
    "The storage format for N-Grams is:\n",
    "Using a Dicitionary which contains all the unigrams as keys, whose values are all the words they have been before, making it the key-value as Bigram. \n",
    "\n",
    "For trigrams, It is Key containing another dictionary which contains Bigrams, making it a total of a trigram model!\n",
    "\n",
    "This makes counting and finding values very easy!\n",
    "\n",
    "For more details on the data structure please visit [this](https://divybramhecha.tech/n-grams-for-poetry-generation/)."
   ]
  },
  {
   "cell_type": "code",
   "execution_count": 17,
   "metadata": {},
   "outputs": [],
   "source": [
    "def BiGram(dic, poem):\n",
    "    a = poem\n",
    "    b = poem[1:]\n",
    "    for i in range(len(b)):\n",
    "        if(a[i] in dic):\n",
    "            if(b[i] in dic[a[i]]):\n",
    "                dic[a[i]][b[i]] = dic[a[i]][b[i]]+1\n",
    "            else:\n",
    "                dic[a[i]][b[i]] = 1\n",
    "        else:\n",
    "            dic[a[i]]={b[i]:1}\n",
    "            \n",
    "    return(dic)"
   ]
  },
  {
   "cell_type": "markdown",
   "metadata": {},
   "source": [
    "Generating the Bigram's dictionary with counts"
   ]
  },
  {
   "cell_type": "code",
   "execution_count": 18,
   "metadata": {},
   "outputs": [],
   "source": [
    "dic = {}\n",
    "for i in Poems:\n",
    "    dic = BiGram(dic, i)"
   ]
  },
  {
   "cell_type": "markdown",
   "metadata": {},
   "source": [
    "The Next word method for Bigrams, i.e. given a previous word prediciting the next word"
   ]
  },
  {
   "cell_type": "code",
   "execution_count": 19,
   "metadata": {},
   "outputs": [],
   "source": [
    "def Next_word(word, dic):\n",
    "    Max = 0\n",
    "    next_word = \"\"\n",
    "    for i,j in list(dic[word].items()):\n",
    "        if(j>Max):\n",
    "            Max = j\n",
    "            next_word = i\n",
    "    return(next_word)"
   ]
  },
  {
   "cell_type": "markdown",
   "metadata": {},
   "source": [
    "Generating a sentence from the Bigram Model!"
   ]
  },
  {
   "cell_type": "code",
   "execution_count": 20,
   "metadata": {},
   "outputs": [],
   "source": [
    "prev_word = \"but\"\n",
    "generate_str = prev_word\n",
    "for i in range(20):\n",
    "    next_word = Next_word(prev_word, dic)\n",
    "    prev_word = next_word\n",
    "    generate_str = generate_str+\" \"+ next_word"
   ]
  },
  {
   "cell_type": "code",
   "execution_count": 21,
   "metadata": {},
   "outputs": [
    {
     "data": {
      "text/plain": [
       "'but the world , NEWLINE NEWLINE NEWLINE NEWLINE NEWLINE NEWLINE NEWLINE NEWLINE NEWLINE NEWLINE NEWLINE NEWLINE NEWLINE NEWLINE NEWLINE NEWLINE NEWLINE'"
      ]
     },
     "execution_count": 21,
     "metadata": {},
     "output_type": "execute_result"
    }
   ],
   "source": [
    "generate_str"
   ]
  },
  {
   "cell_type": "markdown",
   "metadata": {},
   "source": [
    "### Generalizing to NGram Model"
   ]
  },
  {
   "cell_type": "code",
   "execution_count": 22,
   "metadata": {},
   "outputs": [],
   "source": [
    "def NGram(dictionary, poem, nGram):\n",
    "    Number_of_Ngrams = len(poem)-nGram+1\n",
    "\n",
    "    for position in range(Number_of_Ngrams):\n",
    "        words = [] \n",
    "        for nWord in range(nGram):\n",
    "            words = words + [poem[nWord+position]]\n",
    "        temp_dic = dictionary\n",
    "\n",
    "        for nWord in range(nGram):\n",
    "            current_word = words[nWord]\n",
    "            last_word = nWord+1==nGram\n",
    "            if(current_word in temp_dic):\n",
    "                if(last_word):\n",
    "                    temp_dic[current_word] = temp_dic[current_word]+1 #Increase the Ngram Count by 1\n",
    "                else:    \n",
    "                    temp_dic = temp_dic[current_word]\n",
    "            else:\n",
    "                create_dic = 0\n",
    "                if(last_word):\n",
    "                    create_dic = 1\n",
    "                else:\n",
    "                    create_dic = {words[-1]:1}\n",
    "                \n",
    "                for k in range(nGram-2,nWord,-1):\n",
    "                    create_dic = {words[k]:create_dic}\n",
    "                temp_dic[current_word] = create_dic\n",
    "                break\n",
    "    return(dictionary)"
   ]
  },
  {
   "cell_type": "code",
   "execution_count": 23,
   "metadata": {},
   "outputs": [],
   "source": [
    "dic4 = {}\n",
    "for i in Poems:\n",
    "    dic4 = NGram(dic4, i,4)"
   ]
  },
  {
   "cell_type": "code",
   "execution_count": 24,
   "metadata": {},
   "outputs": [],
   "source": [
    "def Next_word3(word1,word2,word3, dic):\n",
    "    Max = 0\n",
    "    next_word = \"\"\n",
    "    for i,j in list(dic[word1][word2][word3].items()):\n",
    "        if(j>Max):\n",
    "            Max = j\n",
    "            next_word = i\n",
    "    return(next_word)\n",
    "#Next_word3(\"NEWLINE\",\"love\",\"is\",dic4)"
   ]
  },
  {
   "cell_type": "code",
   "execution_count": 27,
   "metadata": {},
   "outputs": [
    {
     "name": "stdout",
     "output_type": "stream",
     "text": [
      "love is all truth , lust full of forged lies. ‘ more i could tell you about the birds. ” \n",
      "“ i ’ m not a baby. \n",
      "wa , wa , wa.\n",
      "i ’ m not a baby. \n",
      "wa , wa , wa.\n",
      "i ’ m not a baby. NEWLINE\n"
     ]
    }
   ],
   "source": [
    "prev_word1 = \"love\"\n",
    "prev_word2 = \"is\"#\"Next_word(prev_word1, dic)\"\n",
    "prev_word3 = \"all\"# Next_word2(prev_word1,prev_word2, dic2)\n",
    "generate_str = prev_word1+\" \"+prev_word2 + \" \" +prev_word3\n",
    "for i in range(50):\n",
    "    next_word = Next_word3(prev_word1, prev_word2,prev_word3, dic4)\n",
    "    prev_word1 = prev_word2\n",
    "    prev_word2 = prev_word3\n",
    "    prev_word3 = next_word\n",
    "    generate_str = generate_str+\" \"+ next_word\n",
    "print(generate_str.replace(\"NEWLINE \",\"\\n\"))"
   ]
  }
 ],
 "metadata": {
  "kernelspec": {
   "display_name": "Python 3",
   "language": "python",
   "name": "python3"
  },
  "language_info": {
   "codemirror_mode": {
    "name": "ipython",
    "version": 3
   },
   "file_extension": ".py",
   "mimetype": "text/x-python",
   "name": "python",
   "nbconvert_exporter": "python",
   "pygments_lexer": "ipython3",
   "version": "3.7.1"
  }
 },
 "nbformat": 4,
 "nbformat_minor": 2
}
