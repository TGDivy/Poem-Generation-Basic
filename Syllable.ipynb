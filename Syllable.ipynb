{
 "cells": [
  {
   "cell_type": "code",
   "execution_count": 288,
   "metadata": {},
   "outputs": [],
   "source": [
    "import pandas as pd\n",
    "import nltk\n",
    "from collections import Counter\n",
    "import re"
   ]
  },
  {
   "cell_type": "markdown",
   "metadata": {},
   "source": [
    "# Dataset"
   ]
  },
  {
   "cell_type": "markdown",
   "metadata": {},
   "source": [
    "### Importing it"
   ]
  },
  {
   "cell_type": "code",
   "execution_count": 289,
   "metadata": {},
   "outputs": [
    {
     "data": {
      "text/html": [
       "<div>\n",
       "<style scoped>\n",
       "    .dataframe tbody tr th:only-of-type {\n",
       "        vertical-align: middle;\n",
       "    }\n",
       "\n",
       "    .dataframe tbody tr th {\n",
       "        vertical-align: top;\n",
       "    }\n",
       "\n",
       "    .dataframe thead th {\n",
       "        text-align: right;\n",
       "    }\n",
       "</style>\n",
       "<table border=\"1\" class=\"dataframe\">\n",
       "  <thead>\n",
       "    <tr style=\"text-align: right;\">\n",
       "      <th></th>\n",
       "      <th>Title</th>\n",
       "      <th>Poem</th>\n",
       "      <th>Poet</th>\n",
       "      <th>Tags</th>\n",
       "    </tr>\n",
       "  </thead>\n",
       "  <tbody>\n",
       "    <tr>\n",
       "      <th>0</th>\n",
       "      <td>\\r\\r\\n                    Objects Used to Prop...</td>\n",
       "      <td>\\r\\r\\nDog bone, stapler,\\r\\r\\ncribbage board, ...</td>\n",
       "      <td>Michelle Menting</td>\n",
       "      <td>NaN</td>\n",
       "    </tr>\n",
       "    <tr>\n",
       "      <th>1</th>\n",
       "      <td>\\r\\r\\n                    The New Church\\r\\r\\n...</td>\n",
       "      <td>\\r\\r\\nThe old cupola glinted above the clouds,...</td>\n",
       "      <td>Lucia Cherciu</td>\n",
       "      <td>NaN</td>\n",
       "    </tr>\n",
       "    <tr>\n",
       "      <th>2</th>\n",
       "      <td>\\r\\r\\n                    Look for Me\\r\\r\\n   ...</td>\n",
       "      <td>\\r\\r\\nLook for me under the hood\\r\\r\\nof that ...</td>\n",
       "      <td>Ted Kooser</td>\n",
       "      <td>NaN</td>\n",
       "    </tr>\n",
       "    <tr>\n",
       "      <th>3</th>\n",
       "      <td>\\r\\r\\n                    Wild Life\\r\\r\\n     ...</td>\n",
       "      <td>\\r\\r\\nBehind the silo, the Mother Rabbit\\r\\r\\n...</td>\n",
       "      <td>Grace Cavalieri</td>\n",
       "      <td>NaN</td>\n",
       "    </tr>\n",
       "    <tr>\n",
       "      <th>4</th>\n",
       "      <td>\\r\\r\\n                    Umbrella\\r\\r\\n      ...</td>\n",
       "      <td>\\r\\r\\nWhen I push your button\\r\\r\\nyou fly off...</td>\n",
       "      <td>Connie Wanek</td>\n",
       "      <td>NaN</td>\n",
       "    </tr>\n",
       "  </tbody>\n",
       "</table>\n",
       "</div>"
      ],
      "text/plain": [
       "                                               Title  \\\n",
       "0  \\r\\r\\n                    Objects Used to Prop...   \n",
       "1  \\r\\r\\n                    The New Church\\r\\r\\n...   \n",
       "2  \\r\\r\\n                    Look for Me\\r\\r\\n   ...   \n",
       "3  \\r\\r\\n                    Wild Life\\r\\r\\n     ...   \n",
       "4  \\r\\r\\n                    Umbrella\\r\\r\\n      ...   \n",
       "\n",
       "                                                Poem              Poet Tags  \n",
       "0  \\r\\r\\nDog bone, stapler,\\r\\r\\ncribbage board, ...  Michelle Menting  NaN  \n",
       "1  \\r\\r\\nThe old cupola glinted above the clouds,...     Lucia Cherciu  NaN  \n",
       "2  \\r\\r\\nLook for me under the hood\\r\\r\\nof that ...        Ted Kooser  NaN  \n",
       "3  \\r\\r\\nBehind the silo, the Mother Rabbit\\r\\r\\n...   Grace Cavalieri  NaN  \n",
       "4  \\r\\r\\nWhen I push your button\\r\\r\\nyou fly off...      Connie Wanek  NaN  "
      ]
     },
     "execution_count": 289,
     "metadata": {},
     "output_type": "execute_result"
    }
   ],
   "source": [
    "data = pd.read_csv(\"G:\\OneDrive - University of Edinburgh\\Poem Generation\\WebScrapping-PoetryFoundation\\PoetryFoundationData.csv\")\n",
    "data = data.drop(columns=[\"Unnamed: 0\"])\n",
    "data.head(5)"
   ]
  },
  {
   "cell_type": "markdown",
   "metadata": {},
   "source": [
    "### Cleaning the dataset"
   ]
  },
  {
   "cell_type": "code",
   "execution_count": 290,
   "metadata": {},
   "outputs": [],
   "source": [
    "def clean_text(string):\n",
    "    string  = str(string).upper()\n",
    "    string  = string.replace(\"-\", \" \")\n",
    "    string  = string.replace(\"—\", \" \")\n",
    "    string  = string.replace(\".\", \" . \")\n",
    "    return str(string).replace(\"\\r\\r\\n\",\" NEWLINE\\n \")\n",
    "\n",
    "data = data.applymap(clean_text)\n",
    "\n",
    "poems = data.Poem.map(lambda x: nltk.tokenize.word_tokenize(x,preserve_line =True))\n",
    "#For Faster Testing\n",
    "poem_sample = poems[:2000]"
   ]
  },
  {
   "cell_type": "markdown",
   "metadata": {},
   "source": [
    "### Adding Syllables Count"
   ]
  },
  {
   "cell_type": "markdown",
   "metadata": {},
   "source": [
    "Importing the Syllables dictionary"
   ]
  },
  {
   "cell_type": "code",
   "execution_count": 294,
   "metadata": {},
   "outputs": [
    {
     "data": {
      "text/html": [
       "<div>\n",
       "<style scoped>\n",
       "    .dataframe tbody tr th:only-of-type {\n",
       "        vertical-align: middle;\n",
       "    }\n",
       "\n",
       "    .dataframe tbody tr th {\n",
       "        vertical-align: top;\n",
       "    }\n",
       "\n",
       "    .dataframe thead th {\n",
       "        text-align: right;\n",
       "    }\n",
       "</style>\n",
       "<table border=\"1\" class=\"dataframe\">\n",
       "  <thead>\n",
       "    <tr style=\"text-align: right;\">\n",
       "      <th></th>\n",
       "      <th>words</th>\n",
       "      <th>syllable_count</th>\n",
       "    </tr>\n",
       "  </thead>\n",
       "  <tbody>\n",
       "    <tr>\n",
       "      <th>0</th>\n",
       "      <td>A(1)</td>\n",
       "      <td>EY1</td>\n",
       "    </tr>\n",
       "    <tr>\n",
       "      <th>1</th>\n",
       "      <td>A'S</td>\n",
       "      <td>EY1 Z</td>\n",
       "    </tr>\n",
       "    <tr>\n",
       "      <th>2</th>\n",
       "      <td>A.</td>\n",
       "      <td>EY1</td>\n",
       "    </tr>\n",
       "    <tr>\n",
       "      <th>3</th>\n",
       "      <td>A.'S</td>\n",
       "      <td>EY1 Z</td>\n",
       "    </tr>\n",
       "    <tr>\n",
       "      <th>4</th>\n",
       "      <td>A.S</td>\n",
       "      <td>EY1 Z</td>\n",
       "    </tr>\n",
       "  </tbody>\n",
       "</table>\n",
       "</div>"
      ],
      "text/plain": [
       "  words syllable_count\n",
       "0  A(1)            EY1\n",
       "1   A'S          EY1 Z\n",
       "2    A.            EY1\n",
       "3  A.'S          EY1 Z\n",
       "4   A.S          EY1 Z"
      ]
     },
     "execution_count": 294,
     "metadata": {},
     "output_type": "execute_result"
    }
   ],
   "source": [
    "syllables = pd.read_csv(\"Syllable dict.txt\",\"  \", engine=\"python\")\n",
    "syllables = syllables.rename(columns = {\"A\":\"words\",\"AH0\":\"syllable_count\"})\n",
    "syllables.head()"
   ]
  },
  {
   "cell_type": "markdown",
   "metadata": {},
   "source": [
    "Building the Syllables dictionary"
   ]
  },
  {
   "cell_type": "code",
   "execution_count": 295,
   "metadata": {},
   "outputs": [],
   "source": [
    "def number_of_syllables(string):\n",
    "    count = 0\n",
    "    for ch in string:\n",
    "        if(ch in \"012\"):\n",
    "            count=count+1\n",
    "    return(count)\n",
    "\n",
    "syllables.syllable_count = (syllables.syllable_count.map(number_of_syllables))\n",
    "syllable_dict = dict([(word, syllable)for word,syllable in zip(Syllables.words,Syllables.syllable)])\n",
    "#Some other basic additions to it manually\n",
    "syllable_dict[\"A\"] = 1\n",
    "syllable_dict[\"NEWLINE\"] = \"NEWLINE\"\n",
    "syllable_dict[\",\"] = \"punc\"\n",
    "syllable_dict[\".\"] = \"punc\""
   ]
  },
  {
   "cell_type": "markdown",
   "metadata": {},
   "source": [
    "### Tagging the poems with the syllables dictionary"
   ]
  },
  {
   "cell_type": "markdown",
   "metadata": {},
   "source": [
    "Tags the words present in the dictionary and returns the words not present in it"
   ]
  },
  {
   "cell_type": "code",
   "execution_count": 296,
   "metadata": {},
   "outputs": [],
   "source": [
    "def tag_syllables(poem, untagged):\n",
    "    tagged_poem = []\n",
    "    for token in poem:\n",
    "        if(token in syllable_dict):\n",
    "            tag = syllable_dict[token]\n",
    "            tagged_poem = tagged_poem + [(token,tag)] \n",
    "        else:\n",
    "            untagged += [token]\n",
    "    return(tagged_poem, untagged)"
   ]
  },
  {
   "cell_type": "markdown",
   "metadata": {},
   "source": [
    "### The missing words problem"
   ]
  },
  {
   "cell_type": "code",
   "execution_count": 300,
   "metadata": {},
   "outputs": [
    {
     "data": {
      "text/plain": [
       "63016"
      ]
     },
     "execution_count": 300,
     "metadata": {},
     "output_type": "execute_result"
    }
   ],
   "source": [
    "b = []\n",
    "for i in Poems:\n",
    "    a,b = tag_syllables(i,b)\n",
    "#set(b)\n",
    "len(set(b))"
   ]
  },
  {
   "cell_type": "markdown",
   "metadata": {},
   "source": [
    "### Using CMU Building to build more dictionaries"
   ]
  },
  {
   "cell_type": "code",
   "execution_count": null,
   "metadata": {},
   "outputs": [],
   "source": [
    "File_object = open(\"missing_words.txt\",\"w\")\n",
    "c = []\n",
    "for word in (list(set(b))[40000:]):\n",
    "    try:\n",
    "        File_object.writelines(word+\"\\n\")\n",
    "    except Exception as e:\n",
    "        c = c+[word]\n",
    "File_object.close()"
   ]
  },
  {
   "cell_type": "markdown",
   "metadata": {},
   "source": [
    "### Using the dictionaries to find the counts"
   ]
  },
  {
   "cell_type": "code",
   "execution_count": 322,
   "metadata": {},
   "outputs": [
    {
     "data": {
      "text/html": [
       "<div>\n",
       "<style scoped>\n",
       "    .dataframe tbody tr th:only-of-type {\n",
       "        vertical-align: middle;\n",
       "    }\n",
       "\n",
       "    .dataframe tbody tr th {\n",
       "        vertical-align: top;\n",
       "    }\n",
       "\n",
       "    .dataframe thead th {\n",
       "        text-align: right;\n",
       "    }\n",
       "</style>\n",
       "<table border=\"1\" class=\"dataframe\">\n",
       "  <thead>\n",
       "    <tr style=\"text-align: right;\">\n",
       "      <th></th>\n",
       "      <th>words</th>\n",
       "      <th>syllable_count</th>\n",
       "    </tr>\n",
       "  </thead>\n",
       "  <tbody>\n",
       "    <tr>\n",
       "      <th>0</th>\n",
       "      <td>YNOUGH</td>\n",
       "      <td>Y N UW</td>\n",
       "    </tr>\n",
       "    <tr>\n",
       "      <th>1</th>\n",
       "      <td>AGATHAS</td>\n",
       "      <td>AE G AH TH AH Z</td>\n",
       "    </tr>\n",
       "    <tr>\n",
       "      <th>2</th>\n",
       "      <td>ARETO</td>\n",
       "      <td>AE R AH T OW</td>\n",
       "    </tr>\n",
       "    <tr>\n",
       "      <th>3</th>\n",
       "      <td>UNSOUNDED</td>\n",
       "      <td>AH N S AW N D IH D</td>\n",
       "    </tr>\n",
       "    <tr>\n",
       "      <th>4</th>\n",
       "      <td>NIGHTIESMALL</td>\n",
       "      <td>N AY T AY S M AO L</td>\n",
       "    </tr>\n",
       "  </tbody>\n",
       "</table>\n",
       "</div>"
      ],
      "text/plain": [
       "          words      syllable_count\n",
       "0        YNOUGH              Y N UW\n",
       "1       AGATHAS     AE G AH TH AH Z\n",
       "2         ARETO        AE R AH T OW\n",
       "3     UNSOUNDED  AH N S AW N D IH D\n",
       "4  NIGHTIESMALL  N AY T AY S M AO L"
      ]
     },
     "execution_count": 322,
     "metadata": {},
     "output_type": "execute_result"
    }
   ],
   "source": [
    "dict1 = pd.read_csv(\"dict1.txt\",\"\\t\", engine=\"python\")\n",
    "dict1 = dict1.rename(columns={\"SCYTHING\":\"words\",\"S IH DH AH NG\":\"syllable_count\"})\n",
    "dict2 = pd.read_csv(\"dict2.txt\",\"\\t\", engine=\"python\")\n",
    "dict2 = dict2.rename(columns={\"TREATERS/\":\"words\",\"T R IY T ER Z\":\"syllable_count\"})\n",
    "dict3 = pd.read_csv(\"dict3.txt\",\"\\t\", engine=\"python\")\n",
    "dict3 = dict3.rename(columns={\"NOMMO\":\"words\",\"N AA M OW\":\"syllable_count\"})\n",
    "dictionary = (dict1.append(dict2)).append(dict3)\n",
    "dictionary.head(5)"
   ]
  },
  {
   "cell_type": "markdown",
   "metadata": {},
   "source": [
    "Importing the phones to identify syllables"
   ]
  },
  {
   "cell_type": "code",
   "execution_count": 326,
   "metadata": {},
   "outputs": [
    {
     "name": "stdout",
     "output_type": "stream",
     "text": [
      "['AE', 'AH', 'AO', 'AW', 'AY', 'EH', 'ER', 'EY', 'IH', 'IY', 'OW', 'OY', 'UH', 'UW', 'AA']\n"
     ]
    }
   ],
   "source": [
    "phones = pd.read_csv(\"phones.txt\",\"\\t\", engine=\"python\")\n",
    "phones = phones.rename(columns={\"AA\":\"symbol\",\"vowel\":\"meaning\"})\n",
    "phones = phones[phones[\"meaning\"]==\"vowel\"]\n",
    "vowels = list(phones.symbol)\n",
    "vowels = vowels + [\"AA\"]\n",
    "print(vowels)"
   ]
  },
  {
   "cell_type": "code",
   "execution_count": 338,
   "metadata": {},
   "outputs": [],
   "source": [
    "def syllables_count(string):\n",
    "    l = str(string).split(\" \")\n",
    "    count = 0\n",
    "    for a in l:\n",
    "        if(a in vowels):\n",
    "            count+=1\n",
    "    return count\n",
    "dictionary.syllable_count = dictionary.syllable_count.map(syllables_count)"
   ]
  },
  {
   "cell_type": "code",
   "execution_count": 345,
   "metadata": {},
   "outputs": [],
   "source": [
    "dict_database = syllables.append(dictionary)"
   ]
  },
  {
   "cell_type": "code",
   "execution_count": 348,
   "metadata": {},
   "outputs": [],
   "source": [
    "syllable_dict = dict([(word, syllable)for word,syllable in zip(dict_database.words,dict_database.syllable_count)])\n",
    "#Some other basic additions to it manually\n",
    "syllable_dict[\"A\"] = 1\n",
    "syllable_dict[\"NEWLINE\"] = \"NEWLINE\"\n",
    "syllable_dict[\",\"] = \"punc\"\n",
    "syllable_dict[\".\"] = \"punc\""
   ]
  },
  {
   "cell_type": "markdown",
   "metadata": {},
   "source": [
    "### Tagging poems with the updated dictionary!"
   ]
  },
  {
   "cell_type": "code",
   "execution_count": 367,
   "metadata": {},
   "outputs": [
    {
     "data": {
      "text/plain": [
       "12584"
      ]
     },
     "execution_count": 367,
     "metadata": {},
     "output_type": "execute_result"
    }
   ],
   "source": [
    "def syllables_poem(poem, untagged):\n",
    "    syllable_poem = []\n",
    "    for token in poem:\n",
    "        if(token in syllable_dict):\n",
    "            tag = syllable_dict[token]\n",
    "            syllable_poem = syllable_poem + [tag] \n",
    "        else:\n",
    "            untagged += [token]\n",
    "    return(syllable_poem, untagged)\n",
    "\n",
    "untagged = []\n",
    "syllable_poems = []\n",
    "for i in Poems:\n",
    "    temp,untagged = syllables_poem(i,untagged)\n",
    "    syllable_poems = syllable_poems+[temp]\n",
    "#set(b)\n",
    "len(set(untagged))"
   ]
  },
  {
   "cell_type": "code",
   "execution_count": 414,
   "metadata": {},
   "outputs": [],
   "source": [
    "from Models import nGrams as n\n",
    "import Models\n",
    "a = Models.nGrams()"
   ]
  },
  {
   "cell_type": "code",
   "execution_count": 411,
   "metadata": {},
   "outputs": [],
   "source": [
    "dicBi = {}\n",
    "for i in syllable_poems:\n",
    "    dicBi = n.BiGram(dicBi, i)\n",
    "\n",
    "dicTri = {}\n",
    "for i in syllable_poems:\n",
    "    dicTri = n.TriGram(dicTri, i)\n",
    "\n",
    "dic4 = {}\n",
    "for i in syllable_poems:\n",
    "    dic4 = a.NGram(dic4, i, 4)"
   ]
  },
  {
   "cell_type": "code",
   "execution_count": 427,
   "metadata": {},
   "outputs": [
    {
     "name": "stdout",
     "output_type": "stream",
     "text": [
      "2 2 2 3 2 1 3 1 1 1 1 1 1 1 1 1 1 1 1 1 1 1 1 1 1 1 1 1 1 1 1 1 1 1 1 1 1 1 1 1 1 1 1 1 1 1 1 1 1 1 1 1 1 1 1 1 1\n"
     ]
    }
   ],
   "source": [
    "prev_word1 = 2\n",
    "prev_word2 = 2\n",
    "prev_word3 = 2\n",
    "prev_word4 = 3\n",
    "prev_word5 = 2\n",
    "prev_word6 = 1\n",
    "prev_word7 = 3\n",
    "\n",
    "generate_str = str(prev_word1)+\" \"+str(prev_word2) + \" \" +str(prev_word3) + \" \"+ str(prev_word4) +\" \"+str(prev_word5) + \" \" +str(prev_word6) + \" \" +str(prev_word7)\n",
    "\n",
    "for i in range(50):\n",
    "    next_word  = n.next_word([prev_word1, prev_word2,prev_word3,prev_word4, prev_word5,prev_word6,prev_word7], dic8, 8)\n",
    "    prev_word1 = prev_word2\n",
    "    prev_word2 = prev_word3\n",
    "    prev_word3 = prev_word4\n",
    "    prev_word4 = prev_word5\n",
    "    prev_word5 = prev_word6\n",
    "    prev_word6 = prev_word7\n",
    "    prev_word7 = next_word\n",
    "    generate_str = generate_str+\" \"+ str(next_word)\n",
    "\n",
    "print(generate_str)"
   ]
  },
  {
   "cell_type": "code",
   "execution_count": 418,
   "metadata": {},
   "outputs": [],
   "source": [
    "dic8 = {}\n",
    "for i in syllable_poems:\n",
    "    dic8 = a.NGram(dic8, i, 8)"
   ]
  },
  {
   "cell_type": "code",
   "execution_count": null,
   "metadata": {},
   "outputs": [],
   "source": []
  },
  {
   "cell_type": "code",
   "execution_count": null,
   "metadata": {},
   "outputs": [],
   "source": []
  },
  {
   "cell_type": "code",
   "execution_count": null,
   "metadata": {},
   "outputs": [],
   "source": []
  },
  {
   "cell_type": "code",
   "execution_count": null,
   "metadata": {},
   "outputs": [],
   "source": []
  }
 ],
 "metadata": {
  "kernelspec": {
   "display_name": "Python 3",
   "language": "python",
   "name": "python3"
  },
  "language_info": {
   "codemirror_mode": {
    "name": "ipython",
    "version": 3
   },
   "file_extension": ".py",
   "mimetype": "text/x-python",
   "name": "python",
   "nbconvert_exporter": "python",
   "pygments_lexer": "ipython3",
   "version": "3.7.1"
  }
 },
 "nbformat": 4,
 "nbformat_minor": 2
}
