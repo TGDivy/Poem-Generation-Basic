{
 "cells": [
  {
   "cell_type": "code",
   "execution_count": 8,
   "metadata": {},
   "outputs": [],
   "source": [
    "import Data\n",
    "import nltk\n",
    "from Models import nGrams as n"
   ]
  },
  {
   "cell_type": "code",
   "execution_count": 2,
   "metadata": {},
   "outputs": [],
   "source": [
    "poems = Data.PoetryFoundationPoems()\n",
    "poems = Data.Poem_words_dict(poems)"
   ]
  },
  {
   "cell_type": "code",
   "execution_count": 3,
   "metadata": {},
   "outputs": [],
   "source": [
    "def word_pos_tags(dic, poems_tagged):\n",
    "    for word, tag in poems_tagged:\n",
    "        if(word in dic):\n",
    "            if(tag in dic[word]): \n",
    "                dic[word][tag] = dic[word][tag]+1\n",
    "            else:\n",
    "                dic[word][tag] = 1\n",
    "        else:\n",
    "            dic[word] = {tag:1}\n",
    "    return dic\n",
    "\n",
    "def tag_pos(poem, dic):\n",
    "    poem = [w.lower() for w in poem]\n",
    "    nltk_tags = nltk.pos_tag(poem)\n",
    "    modify_tags = []\n",
    "    only_tags = []\n",
    "    for word,tag in nltk_tags:\n",
    "        if(word == \"newline\"):\n",
    "            modify_tags = modify_tags + [(word,\"NEWLINE\")]\n",
    "            only_tags = only_tags + [\"NEWLINE\"]\n",
    "        else: \n",
    "            modify_tags = modify_tags + [(word,tag)]\n",
    "            only_tags = only_tags + [tag]\n",
    "\n",
    "    dic = word_pos_tags(dic, modify_tags)\n",
    "    #print(modify_tags)\n",
    "    #print()\n",
    "    return(only_tags, dic)"
   ]
  },
  {
   "cell_type": "code",
   "execution_count": 432,
   "metadata": {},
   "outputs": [],
   "source": [
    "poems_of_tags = []\n",
    "pos_dicts = {}\n",
    "for p in poems:\n",
    "    poem_tagged, pos_dicts = tag_pos(p, pos_dicts)\n",
    "    poems_of_tags = poems_of_tags + [poem_tagged]\n",
    "    #print(pos_dicts)"
   ]
  },
  {
   "cell_type": "code",
   "execution_count": 9,
   "metadata": {},
   "outputs": [],
   "source": [
    "a = Models.nGrams()"
   ]
  },
  {
   "cell_type": "code",
   "execution_count": 465,
   "metadata": {},
   "outputs": [],
   "source": [
    "WordsTri = {}\n",
    "for i in poems:\n",
    "    WordsTri = a.NGram(WordsTri, i,3)\n",
    "\n",
    "Words4 = {}\n",
    "for i in poems:\n",
    "    Words4 = a.NGram(Words4, i, 4)"
   ]
  },
  {
   "cell_type": "code",
   "execution_count": 66,
   "metadata": {},
   "outputs": [],
   "source": [
    "POS3 = {}\n",
    "for i in poems_of_tags:\n",
    "    POS3 = a.NGram(POS3, i, 3)\n",
    "\n",
    "POS4 = {}\n",
    "for i in poems_of_tags:\n",
    "    POS4 = a.NGram(POS4, i, 4)"
   ]
  },
  {
   "cell_type": "code",
   "execution_count": 52,
   "metadata": {},
   "outputs": [
    {
     "data": {
      "text/plain": [
       "('NOT', 0.06657963446475196)"
      ]
     },
     "execution_count": 52,
     "metadata": {},
     "output_type": "execute_result"
    }
   ],
   "source": [
    "n.next_word_prob([\"HE\",\"IS\"], WordsTri, 3, 0)"
   ]
  },
  {
   "cell_type": "code",
   "execution_count": 53,
   "metadata": {},
   "outputs": [
    {
     "data": {
      "text/plain": [
       "{'SO': 0.007832898172323759,\n",
       " 'BEAUTIFUL': 0.0026109660574412533,\n",
       " 'SMALL': 0.0013054830287206266,\n",
       " 'YOURS': 0.0013054830287206266,\n",
       " 'STUDYING': 0.0013054830287206266,\n",
       " 'MORE': 0.0039164490861618795,\n",
       " 'CONCENTRATING': 0.0013054830287206266,\n",
       " 'DECORATING': 0.0013054830287206266,\n",
       " '.': 0.0195822454308094,\n",
       " 'DELIGHTED': 0.0013054830287206266,\n",
       " 'SORRY': 0.0013054830287206266,\n",
       " 'RUNNING': 0.0013054830287206266,\n",
       " 'THE': 0.06135770234986945,\n",
       " 'A': 0.05221932114882506,\n",
       " 'CORPORATE': 0.0013054830287206266,\n",
       " 'DUNKIN': 0.0013054830287206266,\n",
       " 'NIKE': 0.0013054830287206266,\n",
       " 'FORGED': 0.0013054830287206266,\n",
       " 'PASSING': 0.0013054830287206266,\n",
       " 'STUTTER': 0.0013054830287206266,\n",
       " 'NEWLINE': 0.03263707571801567,\n",
       " 'SPEAKING': 0.0026109660574412533,\n",
       " 'GIVING': 0.0013054830287206266,\n",
       " 'WEARING': 0.0039164490861618795,\n",
       " 'BIGGIE': 0.0013054830287206266,\n",
       " 'MILES': 0.0013054830287206266,\n",
       " 'AKRON': 0.0013054830287206266,\n",
       " 'HEART': 0.0013054830287206266,\n",
       " 'ASHTABULA': 0.0013054830287206266,\n",
       " 'CARRYING': 0.005221932114882507,\n",
       " 'THIRD': 0.0013054830287206266,\n",
       " 'FARM': 0.0013054830287206266,\n",
       " 'TURNING': 0.0013054830287206266,\n",
       " ',': 0.0391644908616188,\n",
       " 'DOCILE': 0.0026109660574412533,\n",
       " 'ON': 0.010443864229765013,\n",
       " 'IN': 0.016971279373368148,\n",
       " 'YOUNG': 0.0039164490861618795,\n",
       " 'SERIOUS': 0.0013054830287206266,\n",
       " 'NOT': 0.06657963446475196,\n",
       " 'TOSSED': 0.0013054830287206266,\n",
       " 'TOAD': 0.0013054830287206266,\n",
       " 'ALIVE': 0.0026109660574412533,\n",
       " 'OLD': 0.007832898172323759,\n",
       " 'AFTER': 0.0039164490861618795,\n",
       " 'INDEED': 0.0013054830287206266,\n",
       " 'FOR': 0.0026109660574412533,\n",
       " 'AGGRIEVED': 0.0013054830287206266,\n",
       " 'AT': 0.006527415143603133,\n",
       " 'DEAD': 0.016971279373368148,\n",
       " 'LUCIFERES': 0.0013054830287206266,\n",
       " 'DYING': 0.0026109660574412533,\n",
       " 'NO': 0.009138381201044387,\n",
       " 'HOLLOW': 0.0013054830287206266,\n",
       " 'PATRON': 0.0013054830287206266,\n",
       " 'MADEH': 0.0013054830287206266,\n",
       " 'MOST': 0.0026109660574412533,\n",
       " 'DRUNKEN': 0.0013054830287206266,\n",
       " 'GOING': 0.006527415143603133,\n",
       " 'TINY': 0.0013054830287206266,\n",
       " 'TRYING': 0.005221932114882507,\n",
       " 'TEARING': 0.0013054830287206266,\n",
       " 'THERE': 0.0039164490861618795,\n",
       " 'ASKING': 0.0013054830287206266,\n",
       " 'FREE': 0.0013054830287206266,\n",
       " 'JUST': 0.007832898172323759,\n",
       " 'BECOMING': 0.0013054830287206266,\n",
       " 'GONE': 0.020887728459530026,\n",
       " 'COLD': 0.0013054830287206266,\n",
       " 'HEAVY': 0.0013054830287206266,\n",
       " 'PRUNING': 0.0026109660574412533,\n",
       " 'SORT': 0.0013054830287206266,\n",
       " 'LYING': 0.0026109660574412533,\n",
       " 'PLEASED': 0.0013054830287206266,\n",
       " 'BIDDEN': 0.0013054830287206266,\n",
       " 'STRONG': 0.0039164490861618795,\n",
       " 'COME': 0.0013054830287206266,\n",
       " 'VOID': 0.0013054830287206266,\n",
       " 'ALL': 0.006527415143603133,\n",
       " 'PALE': 0.0026109660574412533,\n",
       " 'LOOKING': 0.0039164490861618795,\n",
       " 'AS': 0.0013054830287206266,\n",
       " 'SCOOPING': 0.0013054830287206266,\n",
       " 'CHANGING': 0.0026109660574412533,\n",
       " 'CALLED': 0.005221932114882507,\n",
       " 'BUT': 0.0039164490861618795,\n",
       " 'SLOWLY': 0.0026109660574412533,\n",
       " 'UNABLE': 0.0013054830287206266,\n",
       " 'WORSE': 0.0013054830287206266,\n",
       " '’': 0.0013054830287206266,\n",
       " 'AN': 0.015665796344647518,\n",
       " 'FOUND': 0.005221932114882507,\n",
       " 'LEAVING': 0.0013054830287206266,\n",
       " 'TELLING': 0.0013054830287206266,\n",
       " 'RECITING': 0.0013054830287206266,\n",
       " 'ONLY': 0.0013054830287206266,\n",
       " 'SEARCHING': 0.0026109660574412533,\n",
       " 'HAVING': 0.0013054830287206266,\n",
       " 'ABOUT': 0.0039164490861618795,\n",
       " \"N'T\": 0.005221932114882507,\n",
       " 'SHIPWRECKED': 0.0013054830287206266,\n",
       " 'STILL': 0.009138381201044387,\n",
       " 'TOO': 0.005221932114882507,\n",
       " 'COMING': 0.0039164490861618795,\n",
       " 'MAKING': 0.0013054830287206266,\n",
       " 'ALWAYS': 0.0039164490861618795,\n",
       " 'PRESENT': 0.0013054830287206266,\n",
       " 'LIKE': 0.0026109660574412533,\n",
       " 'DANGEROUSIN': 0.0013054830287206266,\n",
       " 'RENDERED': 0.0013054830287206266,\n",
       " 'FAST': 0.0013054830287206266,\n",
       " 'SEATED': 0.0026109660574412533,\n",
       " 'MUCH': 0.0026109660574412533,\n",
       " 'ONE': 0.0026109660574412533,\n",
       " 'DOWNSTAIRS': 0.0013054830287206266,\n",
       " 'AND': 0.005221932114882507,\n",
       " 'BEING': 0.0039164490861618795,\n",
       " 'POOR': 0.0013054830287206266,\n",
       " 'TIRED': 0.0026109660574412533,\n",
       " 'OVER': 0.0013054830287206266,\n",
       " 'HURRYING': 0.0013054830287206266,\n",
       " 'DRIVING': 0.0026109660574412533,\n",
       " 'READING': 0.0013054830287206266,\n",
       " 'WASTING': 0.0013054830287206266,\n",
       " 'THINE': 0.0013054830287206266,\n",
       " 'KIND': 0.0013054830287206266,\n",
       " 'ATTRACTIVE': 0.0013054830287206266,\n",
       " 'SINGING': 0.0026109660574412533,\n",
       " 'FERRYING': 0.0013054830287206266,\n",
       " 'HURLED': 0.0013054830287206266,\n",
       " 'TOWARD': 0.0013054830287206266,\n",
       " ';': 0.0026109660574412533,\n",
       " 'SAFE': 0.0013054830287206266,\n",
       " 'ADDICTED': 0.0013054830287206266,\n",
       " 'PINK': 0.0013054830287206266,\n",
       " 'WHITE': 0.0013054830287206266,\n",
       " 'SURPRISED': 0.0013054830287206266,\n",
       " 'MINE': 0.0013054830287206266,\n",
       " 'AMONG': 0.0039164490861618795,\n",
       " 'GROWING': 0.0013054830287206266,\n",
       " 'DRAWN': 0.0026109660574412533,\n",
       " 'UGLY': 0.0013054830287206266,\n",
       " 'THOSE': 0.0013054830287206266,\n",
       " 'ABLE': 0.0026109660574412533,\n",
       " 'BLIND': 0.0039164490861618795,\n",
       " 'TAKING': 0.0013054830287206266,\n",
       " 'WAITING': 0.0039164490861618795,\n",
       " 'AWAKE': 0.0013054830287206266,\n",
       " 'SENDING': 0.0013054830287206266,\n",
       " 'PUNISHED': 0.0013054830287206266,\n",
       " 'HARD': 0.0013054830287206266,\n",
       " 'AFFECTION': 0.0026109660574412533,\n",
       " 'LOVE': 0.0013054830287206266,\n",
       " 'GONEAND': 0.0013054830287206266,\n",
       " 'SITTING': 0.0013054830287206266,\n",
       " 'DRINKINGA': 0.0013054830287206266,\n",
       " 'HAPPY': 0.0013054830287206266,\n",
       " 'REHABBING': 0.0013054830287206266,\n",
       " 'IS': 0.0013054830287206266,\n",
       " 'ASHAMED': 0.0026109660574412533,\n",
       " 'MY': 0.0026109660574412533,\n",
       " 'THAT': 0.0026109660574412533,\n",
       " 'BREATHING': 0.0013054830287206266,\n",
       " 'HOLDING': 0.0013054830287206266,\n",
       " 'EVE': 0.0013054830287206266,\n",
       " 'MERELY': 0.0013054830287206266,\n",
       " 'STANDING': 0.0013054830287206266,\n",
       " 'CAST': 0.0013054830287206266,\n",
       " 'LUCKY': 0.0013054830287206266,\n",
       " 'REPAIRING': 0.0013054830287206266,\n",
       " 'RETIRING': 0.0013054830287206266,\n",
       " 'NOTHING': 0.0013054830287206266,\n",
       " 'NOW': 0.0039164490861618795,\n",
       " 'MAXIM': 0.0013054830287206266,\n",
       " 'READY': 0.0026109660574412533,\n",
       " 'SAYING': 0.0039164490861618795,\n",
       " 'HUMAN': 0.0013054830287206266,\n",
       " 'THANKFUL': 0.0013054830287206266,\n",
       " 'BROKEN': 0.0013054830287206266,\n",
       " 'OF': 0.005221932114882507,\n",
       " 'WRITING': 0.0013054830287206266,\n",
       " 'FORTY': 0.0026109660574412533,\n",
       " 'SAD': 0.0013054830287206266,\n",
       " 'PREPARED': 0.0013054830287206266,\n",
       " 'GRINNING': 0.0013054830287206266,\n",
       " 'HIP': 0.0013054830287206266,\n",
       " 'WANDERING': 0.0013054830287206266,\n",
       " 'BOTH': 0.0026109660574412533,\n",
       " 'STRICTLY': 0.0013054830287206266,\n",
       " 'GROWN': 0.0013054830287206266,\n",
       " 'FAT': 0.0013054830287206266,\n",
       " 'GOODNESS': 0.0013054830287206266,\n",
       " 'SPEECHLESS': 0.0013054830287206266,\n",
       " 'GOOD': 0.0026109660574412533,\n",
       " 'TERRIBLE': 0.0013054830287206266,\n",
       " 'CALL': 0.0013054830287206266,\n",
       " 'SHOUTING': 0.0026109660574412533,\n",
       " 'WAVING': 0.0013054830287206266,\n",
       " 'WAGGING': 0.0013054830287206266,\n",
       " 'UP': 0.0013054830287206266,\n",
       " '!': 0.0013054830287206266,\n",
       " 'CHRÍST': 0.0013054830287206266,\n",
       " 'UNDER': 0.0013054830287206266,\n",
       " 'TRAMPLING': 0.0013054830287206266,\n",
       " 'SIFTING': 0.0013054830287206266,\n",
       " 'TO': 0.0039164490861618795,\n",
       " 'JUBILANT': 0.0013054830287206266,\n",
       " 'DEAF': 0.0026109660574412533,\n",
       " 'WON': 0.0026109660574412533,\n",
       " 'COMMING': 0.0013054830287206266,\n",
       " 'THY': 0.0013054830287206266,\n",
       " 'SLAIN': 0.0026109660574412533,\n",
       " 'SPOKEN': 0.0013054830287206266,\n",
       " 'INSIDE': 0.0026109660574412533,\n",
       " 'USED': 0.0013054830287206266,\n",
       " 'HIGH': 0.0013054830287206266,\n",
       " 'REDNECKED': 0.0013054830287206266,\n",
       " 'MOONFACED': 0.0013054830287206266,\n",
       " 'MADISON': 0.0013054830287206266,\n",
       " 'ODD': 0.0013054830287206266,\n",
       " 'ASKED': 0.0013054830287206266,\n",
       " 'AWFULLY': 0.0013054830287206266,\n",
       " 'BLOODED': 0.0013054830287206266,\n",
       " 'TAKEN': 0.0013054830287206266,\n",
       " 'FRANK': 0.0013054830287206266,\n",
       " 'MISUNDERSTOOD': 0.0013054830287206266,\n",
       " 'HEADING': 0.0013054830287206266,\n",
       " 'STONING': 0.0013054830287206266,\n",
       " 'EITHER': 0.0026109660574412533,\n",
       " 'AMUSED': 0.0013054830287206266,\n",
       " 'HIMSELF': 0.0013054830287206266,\n",
       " 'CLIMBING': 0.0013054830287206266,\n",
       " 'SILENTER': 0.0013054830287206266,\n",
       " 'REALLY': 0.0013054830287206266,\n",
       " 'COVERED': 0.0013054830287206266,\n",
       " 'WRENCHED': 0.0013054830287206266,\n",
       " 'FLOWN': 0.0026109660574412533,\n",
       " 'PAINTING': 0.0013054830287206266,\n",
       " 'PUSHING': 0.0039164490861618795,\n",
       " 'FINDING': 0.0013054830287206266,\n",
       " 'RAISED': 0.0013054830287206266,\n",
       " 'RISEN': 0.0026109660574412533,\n",
       " 'HER': 0.0013054830287206266,\n",
       " 'ADDRESSING': 0.0013054830287206266,\n",
       " 'TRANSFORMED': 0.0013054830287206266,\n",
       " 'ASIAN': 0.0013054830287206266,\n",
       " 'AENEAS': 0.0013054830287206266,\n",
       " 'SEDUCED': 0.0013054830287206266,\n",
       " 'CURIOUS': 0.0013054830287206266,\n",
       " 'TEN': 0.0013054830287206266,\n",
       " '27': 0.0013054830287206266,\n",
       " 'HIDDEN': 0.0013054830287206266,\n",
       " 'THINKING': 0.0026109660574412533,\n",
       " 'AWARE': 0.0013054830287206266,\n",
       " 'BAFFLED': 0.0013054830287206266,\n",
       " 'CHRIST': 0.0013054830287206266,\n",
       " '(': 0.0013054830287206266,\n",
       " 'RESTORED': 0.0013054830287206266,\n",
       " 'SEALED': 0.0013054830287206266,\n",
       " 'OUTDOORSY': 0.0013054830287206266,\n",
       " 'QUIETLY': 0.0013054830287206266,\n",
       " 'SHOWING': 0.0013054830287206266,\n",
       " 'GETTING': 0.0013054830287206266,\n",
       " 'PLAYING': 0.0026109660574412533,\n",
       " 'BACK': 0.0013054830287206266,\n",
       " 'UPHOLSTERED': 0.0013054830287206266,\n",
       " 'UPSIDE': 0.0013054830287206266,\n",
       " 'KNOWN': 0.0013054830287206266,\n",
       " 'LOATH': 0.0013054830287206266,\n",
       " 'BEEF': 0.0013054830287206266,\n",
       " 'CANDID': 0.0013054830287206266,\n",
       " 'SHOT': 0.0013054830287206266,\n",
       " 'EVERYTHING': 0.0013054830287206266,\n",
       " 'MAN': 0.0013054830287206266,\n",
       " 'SUBJECT': 0.0013054830287206266,\n",
       " 'TODAY': 0.0013054830287206266,\n",
       " 'RUSHING': 0.0013054830287206266,\n",
       " 'BEATING': 0.0013054830287206266,\n",
       " 'INVISIBLE': 0.0013054830287206266,\n",
       " 'ABSOLUTELY': 0.0026109660574412533,\n",
       " 'ENRAPTURED': 0.0039164490861618795,\n",
       " 'UTTERLY': 0.0013054830287206266,\n",
       " 'TWELVE': 0.0013054830287206266,\n",
       " 'NINETY': 0.0013054830287206266,\n",
       " 'ENGLISH': 0.0013054830287206266,\n",
       " 'DEADTILL': 0.0013054830287206266,\n",
       " 'FAITHFUL': 0.0013054830287206266,\n",
       " 'BUFFETED': 0.0013054830287206266,\n",
       " 'OFTEN': 0.0013054830287206266,\n",
       " 'WALKING': 0.0013054830287206266,\n",
       " 'IMAGINING': 0.0013054830287206266,\n",
       " 'OLDER': 0.0013054830287206266,\n",
       " 'YES': 0.0013054830287206266,\n",
       " 'SMOOTH': 0.0013054830287206266,\n",
       " 'SAID': 0.0013054830287206266,\n",
       " 'UNSHAVEN': 0.0013054830287206266,\n",
       " 'CUT': 0.0013054830287206266,\n",
       " 'THREATENING': 0.0013054830287206266,\n",
       " 'CONSOLED': 0.0013054830287206266,\n",
       " 'RINGED': 0.0013054830287206266,\n",
       " 'POSSESSED': 0.0013054830287206266,\n",
       " 'WITH': 0.0026109660574412533,\n",
       " 'DANGEROUS': 0.0013054830287206266,\n",
       " 'CHIEFLY': 0.0013054830287206266,\n",
       " 'COURTEOUS': 0.0013054830287206266,\n",
       " 'CLOSELY': 0.0013054830287206266,\n",
       " 'DRINKING': 0.0013054830287206266,\n",
       " 'HATCHING': 0.0013054830287206266,\n",
       " 'ALONE': 0.0013054830287206266,\n",
       " 'OFF': 0.0013054830287206266,\n",
       " 'HAWKINGTWO': 0.0013054830287206266,\n",
       " 'FIDDLING': 0.0013054830287206266,\n",
       " 'PERFECTLY': 0.0013054830287206266,\n",
       " 'PUTTING': 0.0013054830287206266,\n",
       " 'MUTE': 0.0013054830287206266,\n",
       " 'SURE': 0.0026109660574412533,\n",
       " 'NEAR': 0.0013054830287206266,\n",
       " 'VERY': 0.0013054830287206266,\n",
       " 'INCOMPREHENSIBLE': 0.0013054830287206266,\n",
       " 'HIS': 0.0039164490861618795,\n",
       " 'SHINING': 0.0013054830287206266,\n",
       " 'FAR': 0.0013054830287206266,\n",
       " 'FLED': 0.0013054830287206266,\n",
       " 'MEEK': 0.0013054830287206266,\n",
       " 'MILD': 0.0013054830287206266,\n",
       " 'BY': 0.0013054830287206266,\n",
       " 'TRUE': 0.0013054830287206266,\n",
       " 'EVER': 0.0013054830287206266,\n",
       " 'WELL': 0.0013054830287206266,\n",
       " 'TENACIOUS': 0.0013054830287206266,\n",
       " 'HATED': 0.0013054830287206266,\n",
       " 'LANCELOT': 0.0013054830287206266,\n",
       " 'ACTION': 0.0013054830287206266,\n",
       " 'TRIED': 0.0013054830287206266,\n",
       " 'DIVINE': 0.0013054830287206266,\n",
       " 'HOUSED': 0.0013054830287206266,\n",
       " 'LEAN': 0.0013054830287206266,\n",
       " 'SICK': 0.0013054830287206266,\n",
       " 'GENTLE': 0.0013054830287206266,\n",
       " 'RUDE': 0.0013054830287206266,\n",
       " 'THENCEFORTH': 0.0013054830287206266,\n",
       " 'TALLER': 0.0013054830287206266,\n",
       " 'DUST': 0.0013054830287206266,\n",
       " 'TORN': 0.0013054830287206266,\n",
       " 'EVEN': 0.0013054830287206266,\n",
       " 'LISTLESS': 0.0013054830287206266,\n",
       " 'WORKING': 0.0013054830287206266,\n",
       " 'THEIR': 0.0013054830287206266,\n",
       " 'DUMB': 0.0013054830287206266,\n",
       " 'VISIONLESS': 0.0013054830287206266,\n",
       " 'DOOMED': 0.0013054830287206266,\n",
       " 'LOST': 0.0026109660574412533,\n",
       " 'DONE': 0.0013054830287206266,\n",
       " 'OUT': 0.0013054830287206266,\n",
       " 'JEALOUS': 0.0013054830287206266,\n",
       " 'FINISHED': 0.0013054830287206266,\n",
       " 'MANY': 0.0013054830287206266}"
      ]
     },
     "execution_count": 53,
     "metadata": {},
     "output_type": "execute_result"
    }
   ],
   "source": [
    "WordsTri[\"HE\"][\"IS\"]"
   ]
  },
  {
   "cell_type": "code",
   "execution_count": 19,
   "metadata": {},
   "outputs": [
    {
     "data": {
      "text/plain": [
       "('PRP', 0.12964824120603016)"
      ]
     },
     "execution_count": 19,
     "metadata": {},
     "output_type": "execute_result"
    }
   ],
   "source": [
    "n.next_word_prob([\"NN\",\"VB\"], POS3, 3, 0)"
   ]
  },
  {
   "cell_type": "code",
   "execution_count": 433,
   "metadata": {},
   "outputs": [],
   "source": [
    "from Models import nGrams as nn\n",
    "\n",
    "def nextPOSWord(words, POS_tags_of_words, words_nGram, POS_nGram, POS_dic_words, n, a=0.2):    \n",
    "    wordsDic    = words_nGram\n",
    "    POS_Ngram   = POS_nGram\n",
    "    \n",
    "    nn.next_word_prob(words, wordsDic, n, a)\n",
    "    nn.next_word_prob(POS_tags_of_words, POS_Ngram, n, a)\n",
    "\n",
    "    for word in words:\n",
    "        wordsDic = wordsDic[word]\n",
    "        POS_prob(word.lower(), POS_dic_words, a)\n",
    "        \n",
    "    for POS_tag in POS_tags_of_words:\n",
    "        POS_Ngram = POS_Ngram[POS_tag]\n",
    "        \n",
    "    Max = 0\n",
    "    next_word = \"Error\"\n",
    "    next_tag  = \"Error2\"\n",
    "    for word,probablity_word in list(wordsDic.items()):\n",
    "        POS_prob(word.lower(), POS_dic_words, a)\n",
    "        word_POS_p = list(POS_dic_words[word.lower()].items())\n",
    "        #print(word_POS_p)\n",
    "        for tag, prob_tag_given_word in word_POS_p:\n",
    "            final_prob = 0\n",
    "            #print(tag, prob_tag_given_word)\n",
    "            if(tag in POS_Ngram):\n",
    "                prob_tag_for_tag_sequence = POS_Ngram[tag]\n",
    "                final_prob = probablity_word * prob_tag_given_word*prob_tag_for_tag_sequence\n",
    "            \n",
    "            #print(word,probablity_word,syllaDic[word_syllable_count], final_prob)\n",
    "            if(final_prob>Max):\n",
    "                Max = final_prob\n",
    "                next_word = word\n",
    "                next_tag  = tag\n",
    "    #print(next_word, Max)\n",
    "    return(next_word, next_tag)\n"
   ]
  },
  {
   "cell_type": "code",
   "execution_count": 431,
   "metadata": {
    "scrolled": true
   },
   "outputs": [
    {
     "data": {
      "text/plain": [
       "('YOU', 'PRP')"
      ]
     },
     "execution_count": 431,
     "metadata": {},
     "output_type": "execute_result"
    }
   ],
   "source": [
    "nextPOSWord([\"WHY\",\"DO\"],[\"WRB\",\"VBP\"],WordsTri,POS3,pos_dicts,3 )"
   ]
  },
  {
   "cell_type": "code",
   "execution_count": 400,
   "metadata": {},
   "outputs": [],
   "source": [
    "POS_prob(\".\",pos_dicts, a = 0)"
   ]
  },
  {
   "cell_type": "code",
   "execution_count": 402,
   "metadata": {},
   "outputs": [
    {
     "data": {
      "text/plain": [
       "{'.': 1.0}"
      ]
     },
     "execution_count": 402,
     "metadata": {},
     "output_type": "execute_result"
    }
   ],
   "source": [
    "pos_dicts[\".\"]"
   ]
  },
  {
   "cell_type": "code",
   "execution_count": 395,
   "metadata": {},
   "outputs": [],
   "source": [
    "def POS_prob(word, dic, a = 0.2):\n",
    "    counts_dic = dic[word]\n",
    "    \n",
    "    if(not (((list(counts_dic.values())[0])<1)) ):\n",
    "        total_counts = 0\n",
    "        for POS_tag,Count in list(counts_dic.items()):\n",
    "            total_counts = total_counts+Count\n",
    "        \n",
    "        items = list(counts_dic.items())\n",
    "        alpha = a*total_counts\n",
    "        for POS_tag,Count in items:\n",
    "            counts_dic[POS_tag] = ((Count+alpha)/(total_counts + alpha*len(items)))"
   ]
  },
  {
   "cell_type": "code",
   "execution_count": 396,
   "metadata": {},
   "outputs": [
    {
     "data": {
      "text/plain": [
       "{'VBP': 0.666610455311973,\n",
       " 'VB': 0.32377740303541314,\n",
       " 'JJ': 0.004047217537942664,\n",
       " 'NNS': 0.0003372681281618887,\n",
       " 'NN': 0.00505902192242833,\n",
       " 'FW': 0.00016863406408094435}"
      ]
     },
     "execution_count": 396,
     "metadata": {},
     "output_type": "execute_result"
    }
   ],
   "source": [
    "pos_dicts[\"do\"]"
   ]
  },
  {
   "cell_type": "code",
   "execution_count": 397,
   "metadata": {},
   "outputs": [
    {
     "data": {
      "text/plain": [
       "{'RB': 1.0}"
      ]
     },
     "execution_count": 397,
     "metadata": {},
     "output_type": "execute_result"
    }
   ],
   "source": [
    "pos_dicts[\"not\"]"
   ]
  },
  {
   "cell_type": "code",
   "execution_count": 469,
   "metadata": {},
   "outputs": [],
   "source": [
    "words44 = Words4.copy()\n",
    "POS44   = POS4.copy()\n",
    "dic_word = pos_dicts.copy()"
   ]
  },
  {
   "cell_type": "code",
   "execution_count": 473,
   "metadata": {},
   "outputs": [
    {
     "data": {
      "text/plain": [
       "{'FEEL': 0.04404761904761905,\n",
       " 'HAVE': 0.04404761904761905,\n",
       " 'OVERLIVE': 0.04285714285714286,\n",
       " 'BELIEVE': 0.04285714285714286,\n",
       " 'DO': 0.04404761904761905,\n",
       " 'NEED': 0.04642857142857143,\n",
       " 'THINK': 0.04285714285714286,\n",
       " 'TELL': 0.04523809523809524,\n",
       " 'SEE': 0.04285714285714286,\n",
       " 'ONLY': 0.04285714285714286,\n",
       " 'LIVE': 0.04285714285714286,\n",
       " 'WEEP': 0.04285714285714286,\n",
       " 'SIGH': 0.04285714285714286,\n",
       " 'WELCOME': 0.04285714285714286,\n",
       " 'TAKE': 0.04285714285714286,\n",
       " 'SUFFER': 0.04285714285714286,\n",
       " 'WRITE': 0.04285714285714286,\n",
       " 'ALWAYS': 0.04285714285714286,\n",
       " 'DREAM': 0.04285714285714286,\n",
       " 'HOPETO': 0.04285714285714286,\n",
       " 'HATE': 0.047619047619047616,\n",
       " 'ASK': 0.04285714285714286,\n",
       " 'KNOW': 0.04285714285714286}"
      ]
     },
     "execution_count": 473,
     "metadata": {},
     "output_type": "execute_result"
    }
   ],
   "source": [
    "Words4[\"WHY\"][\"DO\"][\"I\"]"
   ]
  },
  {
   "cell_type": "code",
   "execution_count": 499,
   "metadata": {
    "scrolled": true
   },
   "outputs": [
    {
     "name": "stdout",
     "output_type": "stream",
     "text": [
      "IS IT REAL\n",
      "\n",
      "IS IT REAL \n",
      "THE BOTTLE OF THE EYE , \n",
      "SOURCE OF VIGOR 110 YEARS OLD . \n",
      "DUSK FALLS , AND A MAN IN A MOMENT OF THE WORLD , \n",
      "SOMETHING BETWEEN SONG AND PRAYER TO DO SOMETHING , \n",
      "ANYTHING , PAIN , PAIN EVER , FOR EVER , \n",
      "TIME FOR THE PRESUMPTIONSOF MICE AND MEN \n",
      "WITH THEIR MOUSSE BACKED HAIR AND CRAYOLA \n",
      "BLACK COATS LIKE SMALL FRY HOODS WHO SMOKE \n",
      "AND FIRE ABOVE HIS HEAD , \n",
      "SOMETHING BETWEEN SONG AND PRAYER TO DO SOMETHING , \n",
      "ANYTHING , PAIN , PAIN EVER ,\n"
     ]
    }
   ],
   "source": [
    "prev_word1 = \"IS\"#words_by_syllables[2][random.randint(0,len(words_by_syllables[3]))]\n",
    "prev_tag1  = \"VBZ\"\n",
    "prev_word2 = \"IT\"#temp[random.randint(0,len(temp)-1)]\n",
    "prev_tag2  = \"DT\"\n",
    "prev_word3 = \"REAL\"#temp2[random.randint(0,len(temp2)-1)]\n",
    "prev_tag3  = \"JJ\"\n",
    "\n",
    "generate_str = prev_word1+\" \"+prev_word2 + \" \" +prev_word3\n",
    "print(generate_str)\n",
    "print()\n",
    "for i in range(100):\n",
    "    #print(generate_str)\n",
    "    next_words,next_tag = nextPOSWord([prev_word1, prev_word2, prev_word3],\n",
    "                             [prev_tag1 , prev_tag2 , prev_tag3 ],\n",
    "                             words44, POS44,dic_word,4, a = 0.5)\n",
    "    prev_word1 = prev_word2\n",
    "    prev_word2 = prev_word3\n",
    "    prev_word3 = next_words\n",
    "    prev_tag1  = prev_tag2\n",
    "    prev_tag2  = prev_tag3\n",
    "    prev_tag3  = next_tag\n",
    "    generate_str = generate_str+\" \"+ next_words\n",
    "print(generate_str.replace(\"NEWLINE \",\"\\n\"))"
   ]
  },
  {
   "cell_type": "code",
   "execution_count": 355,
   "metadata": {},
   "outputs": [
    {
     "data": {
      "text/plain": [
       "{'VBP': 0.6035981402870426,\n",
       " 'VB': 0.37234687689508794,\n",
       " 'NN': 0.009702850212249849,\n",
       " 'VBD': 0.0028299979785728724,\n",
       " 'NNS': 0.003840711542348898,\n",
       " 'JJ': 0.00505356781888013,\n",
       " 'FW': 0.0008085708510208206,\n",
       " 'VBN': 0.0004042854255104103,\n",
       " 'RB': 0.00020214271275520516,\n",
       " 'IN': 0.00020214271275520516,\n",
       " 'CD': 0.00020214271275520516,\n",
       " 'VBZ': 0.0006064281382656155,\n",
       " 'NNP': 0.00020214271275520516}"
      ]
     },
     "execution_count": 355,
     "metadata": {},
     "output_type": "execute_result"
    }
   ],
   "source": [
    "pos_dicts[\"know\"]"
   ]
  },
  {
   "cell_type": "code",
   "execution_count": null,
   "metadata": {},
   "outputs": [],
   "source": []
  },
  {
   "cell_type": "code",
   "execution_count": 390,
   "metadata": {},
   "outputs": [
    {
     "name": "stdout",
     "output_type": "stream",
     "text": [
      "KNOW VB\n",
      ". .\n"
     ]
    }
   ],
   "source": [
    "prev_word1 = \"IS\"#words_by_syllables[2][random.randint(0,len(words_by_syllables[3]))]\n",
    "prev_tag1  = \"VBZ\"\n",
    "temp       = list(Words4[prev_word1].keys())\n",
    "prev_word2 = \"IT\"#temp[random.randint(0,len(temp)-1)]\n",
    "prev_tag2  = \"DT\"\n",
    "temp2      = list(Words4[prev_word1][prev_word2].keys())\n",
    "prev_word3 = \"REAL\"#temp2[random.randint(0,len(temp2)-1)]\n",
    "prev_tag3  = \"RB\"\n",
    "prev_word4 = \"KNOW\"#temp2[random.randint(0,len(temp2)-1)]\n",
    "prev_tag4  = \"VB\"\n",
    "\n",
    "next_words,next_tag = nextPOSWord([prev_word1, prev_word2, prev_word3],\n",
    "                             [prev_tag1 , prev_tag2 , prev_tag3 ],\n",
    "                             words44, POS44,pos_dicts,4)\n",
    "print(next_words, next_tag)\n",
    "\n",
    "next_words,next_tag = nextPOSWord([prev_word2, prev_word3, prev_word4],\n",
    "                             [prev_tag2 , prev_tag3 , prev_tag4 ],\n",
    "                             words44, POS44,pos_dicts,4)\n",
    "print(next_words, next_tag)"
   ]
  },
  {
   "cell_type": "code",
   "execution_count": 403,
   "metadata": {},
   "outputs": [
    {
     "name": "stdout",
     "output_type": "stream",
     "text": [
      "KNOW VB\n"
     ]
    }
   ],
   "source": [
    "prev_word1 = \"I\"#words_by_syllables[2][random.randint(0,len(words_by_syllables[3]))]\n",
    "prev_tag1  = \"NN\"\n",
    "temp       = list(Words4[prev_word1].keys())\n",
    "prev_word2 = \"DO\"#temp[random.randint(0,len(temp)-1)]\n",
    "prev_tag2  = \"VBP\"\n",
    "temp2      = list(Words4[prev_word1][prev_word2].keys())\n",
    "prev_word3 = \"NOT\"#temp2[random.randint(0,len(temp2)-1)]\n",
    "prev_tag3  = \"RB\"\n",
    "\n",
    "next_words,next_tag = nextPOSWord([prev_word1, prev_word2, prev_word3],\n",
    "                             [prev_tag1 , prev_tag2 , prev_tag3 ],\n",
    "                             words44, POS44,pos_dicts,4)\n",
    "print(next_words, next_tag)\n"
   ]
  },
  {
   "cell_type": "code",
   "execution_count": 496,
   "metadata": {},
   "outputs": [
    {
     "data": {
      "text/plain": [
       "[('is', 'VBZ'),\n",
       " ('this', 'DT'),\n",
       " ('real', 'JJ'),\n",
       " ('life', 'NN'),\n",
       " ('or', 'CC'),\n",
       " ('is', 'VBZ'),\n",
       " ('it', 'PRP')]"
      ]
     },
     "execution_count": 496,
     "metadata": {},
     "output_type": "execute_result"
    }
   ],
   "source": [
    "nltk.pos_tag([\"is\",\"this\",\"real\",\"life\",\"or\",\"is\",\"it\"])"
   ]
  },
  {
   "cell_type": "code",
   "execution_count": 412,
   "metadata": {},
   "outputs": [
    {
     "name": "stdout",
     "output_type": "stream",
     "text": [
      "I DO NOT KNOW \n",
      "HOW TO MAKE THE WORLD SAFE FOR DEMOCRACY , \n",
      "YOU ’ RE A LITTLE BIT \n",
      "ABOUT THE FLOWERS IN THE STALLS , AND THE LONG , LONG THOUGHTS . `` I REMEMBER THE FIRST TIME , \n",
      "AND THE WORLD IS A ROAD UNDER THE WALL\n"
     ]
    }
   ],
   "source": [
    "from Models import nGrams as n\n",
    "\n",
    "prev_word1 = \"I\"\n",
    "prev_word2 = \"DO\"#n.next_word([prev_word1], dicBi, 2)\n",
    "prev_word3 = \"NOT\"#n.next_word([prev_word1,prev_word2], dicTri, 3)\n",
    "generate_str = prev_word1+\" \"+prev_word2 + \" \" +prev_word3\n",
    "\n",
    "for i in range(50):\n",
    "    next_word = n.next_word([prev_word1, prev_word2,prev_word3], Words4, 4)\n",
    "    prev_word1 = prev_word2\n",
    "    prev_word2 = prev_word3\n",
    "    prev_word3 = next_word\n",
    "    generate_str = generate_str+\" \"+ next_word\n",
    "\n",
    "print(generate_str.replace(\"NEWLINE \",\"\\n\"))"
   ]
  },
  {
   "cell_type": "code",
   "execution_count": 21,
   "metadata": {},
   "outputs": [
    {
     "name": "stdout",
     "output_type": "stream",
     "text": [
      "[('children', 'NNS'), ('played', 'VBD'), ('slow', 'NN')]\n"
     ]
    }
   ],
   "source": [
    "print(nltk.pos_tag([\"children\",\"played\",\"slow\"]))"
   ]
  },
  {
   "cell_type": "code",
   "execution_count": null,
   "metadata": {},
   "outputs": [],
   "source": []
  },
  {
   "cell_type": "code",
   "execution_count": null,
   "metadata": {},
   "outputs": [],
   "source": []
  },
  {
   "cell_type": "code",
   "execution_count": null,
   "metadata": {},
   "outputs": [],
   "source": []
  },
  {
   "cell_type": "code",
   "execution_count": null,
   "metadata": {},
   "outputs": [],
   "source": []
  },
  {
   "cell_type": "code",
   "execution_count": null,
   "metadata": {},
   "outputs": [],
   "source": []
  },
  {
   "cell_type": "code",
   "execution_count": null,
   "metadata": {},
   "outputs": [],
   "source": []
  }
 ],
 "metadata": {
  "kernelspec": {
   "display_name": "Python 3",
   "language": "python",
   "name": "python3"
  },
  "language_info": {
   "codemirror_mode": {
    "name": "ipython",
    "version": 3
   },
   "file_extension": ".py",
   "mimetype": "text/x-python",
   "name": "python",
   "nbconvert_exporter": "python",
   "pygments_lexer": "ipython3",
   "version": "3.7.1"
  }
 },
 "nbformat": 4,
 "nbformat_minor": 2
}
